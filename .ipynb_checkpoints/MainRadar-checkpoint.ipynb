{
 "cells": [
  {
   "cell_type": "code",
   "execution_count": 1,
   "metadata": {
    "scrolled": true
   },
   "outputs": [
    {
     "data": {
      "text/plain": [
       "2"
      ]
     },
     "execution_count": 1,
     "metadata": {},
     "output_type": "execute_result"
    }
   ],
   "source": [
    "## Demarrage du projet ##\n",
    "1+1 #Ca porte chance"
   ]
  },
  {
   "cell_type": "code",
   "execution_count": 2,
   "metadata": {},
   "outputs": [],
   "source": [
    "from Data import DataLoader\n",
    "from Data import RadarDataSet\n",
    "from PreProcessing.domaines.passage_freq import get_signal_frequentiel\n",
    "from Models.PolynomialRegressor import PolynomialRegressor\n",
    "from Models.BasicNNModel import BasicNNModel\n",
    "from Models.DocuCNNModel import DocuCNNModel\n",
    "from Models.ArticleProfCNN2D import ArticleProfCNN2D \n",
    "from Models.BasicAutoEncoder import BasicAutoEncoder\n",
    "from PreProcessing.utils import data_to_complex\n",
    "from sklearn.preprocessing import StandardScaler\n",
    "from Evaluation.plots import ErrorOfSNRPlot \n",
    "from Evaluation.plots import PredictedStepPlot, LearningCurvesPlot\n",
    "from Evaluation.statistic_errors import MSEEvaluateur, RMSEEvaluateur, R2Score, Accuracy\n"
   ]
  },
  {
   "cell_type": "code",
   "execution_count": 3,
   "metadata": {},
   "outputs": [],
   "source": [
    "import pandas as pd\n",
    "import numpy as np\n",
    "import matplotlib.pyplot as plt\n",
    "import random"
   ]
  },
  {
   "cell_type": "markdown",
   "metadata": {},
   "source": [
    "# Chargement des données"
   ]
  },
  {
   "cell_type": "code",
   "execution_count": null,
   "metadata": {},
   "outputs": [],
   "source": [
    "## Chargement des données\n",
    "data_loader = DataLoader.DataLoader(\"./Data/Dataset_X4559_3-2S.csv\",\"./Data/Dataset_y4559_3-2S.csv\")\n",
    "data, labels = data_loader.load_data()\n",
    "radar_dataset = RadarDataSet.RealImaginaryXDataSet(data,labels,0.4, StandardScaler(),appended_snr=True) #0.2 is the test size ( 80% train data, 20% test data)"
   ]
  },
  {
   "cell_type": "markdown",
   "metadata": {},
   "source": [
    "# Chargement de différents modèles"
   ]
  },
  {
   "cell_type": "code",
   "execution_count": null,
   "metadata": {},
   "outputs": [],
   "source": [
    "def custom_loss(y_true, y_pred, threshold=0.4):\n",
    "    # Calculer la distance angulaire entre les prédictions et les vraies étiquettes\n",
    "    angular_distance = tf.abs(tf.math.subtract(y_pred, y_true))\n",
    "\n",
    "    # Appliquer la perte binaire habituelle\n",
    "    base_loss = binary_crossentropy(y_true, y_pred)\n",
    "\n",
    "    # Appliquer une pénalité pour les erreurs d'un degré\n",
    "    penalty = 0.1 * angular_distance\n",
    "    # Combiner la perte binaire et la pénalité\n",
    "    total_loss = base_loss + penalty\n",
    "\n",
    "    return total_loss\n",
    "docuCNNModel = DocuCNNModel()\n",
    "docuCNNModel.load(\"CNN_final_docu3\",custom_loss=True)\n",
    "\n",
    "#basicAutoEncoder = BasicAutoEncoder()\n",
    "#basicAutoEncoder.load(\"basicAutoEncoder\")\n",
    "#X_test_encoded = basicAutoEncoder.encode(radar_dataset.X_test).squeeze()"
   ]
  },
  {
   "cell_type": "markdown",
   "metadata": {},
   "source": [
    "# Prediction des données de test + évaluation"
   ]
  },
  {
   "cell_type": "code",
   "execution_count": null,
   "metadata": {
    "scrolled": true
   },
   "outputs": [],
   "source": [
    "print(radar_dataset.X_test.shape)\n",
    "threshold = 0.32\n",
    "\n",
    "y_predicted = docuCNNModel.model.predict(radar_dataset.X_test)\n",
    "\n",
    "\n",
    "randomTestIndex = random.randint(0, len(y_predicted))\n",
    "PredictedStepPlot().evaluate(\n",
    "    radar_dataset.y_test[randomTestIndex], y_predicted[randomTestIndex], threshold = threshold\n",
    ")\n",
    "\n",
    "y_test_pred_binary = (y_predicted > threshold).astype(int)\n",
    "print(\"LES METRIQUES SUIVANTES SONT CALCULEES APRES AVOIR TRANSFORMER LES DONNEES DE SORTIES EN SORTIES BINAIRE AVEC UN SEUIL DE \"+str(threshold))\n",
    "RMSEEvaluateur().evaluate(radar_dataset.y_test, y_predicted) #take top 2 significant values\n",
    "R2Score().evaluate(radar_dataset.y_test, y_test_pred_binary)\n",
    "Accuracy().evaluate(radar_dataset.y_test, y_test_pred_binary)\n",
    "plt.figure()\n",
    "ErrorOfSNRPlot().evaluate(radar_dataset.snr_y_test, radar_dataset.y_test, y_test_pred_binary, errorFunc=\"accuracy_score\")"
   ]
  },
  {
   "cell_type": "markdown",
   "metadata": {},
   "source": [
    "## Comparaison avec l'algorithme MUSIC"
   ]
  },
  {
   "cell_type": "code",
   "execution_count": null,
   "metadata": {},
   "outputs": [],
   "source": [
    "from Models.MUSIC import MUSICModel\n",
    "\n",
    "radar_dataset_rxx = RadarDataSet.RadarDataSet(data,labels,0.4, scaler=None,appended_snr=True)\n",
    "Rxx_test = RadarDataSet.recreate_rxx(radar_dataset.X_test)\n",
    "musicModel = MUSICModel(2, np.arange(-90,90,0.1))\n",
    "\n",
    "y_music_predicted_angles, y_music_predicted_multilabel = musicModel.predict(Rxx_test)"
   ]
  },
  {
   "cell_type": "code",
   "execution_count": null,
   "metadata": {
    "scrolled": true
   },
   "outputs": [],
   "source": [
    "RMSEEvaluateur().evaluate(radar_dataset_rxx.y_test, y_music_predicted_multilabel) #take top 2 significant values"
   ]
  },
  {
   "cell_type": "code",
   "execution_count": null,
   "metadata": {},
   "outputs": [],
   "source": [
    "from Evaluation.plots import MusicVsModelBySNR\n",
    "\n",
    "musicVsModelBySNRPlotter = MusicVsModelBySNR()\n",
    "musicVsModelBySNRPlotter.evaluate(radar_dataset_rxx.snr_y_test,y_music_predicted_multilabel,radar_dataset_rxx.y_test,y_test_pred_binary, errorFunc=\"rmse\")"
   ]
  },
  {
   "cell_type": "markdown",
   "metadata": {},
   "source": [
    "## Evaluation sur des données classées par SNR"
   ]
  },
  {
   "cell_type": "code",
   "execution_count": null,
   "metadata": {},
   "outputs": [],
   "source": [
    "from sklearn.metrics import f1_score\n",
    "data_loader2 = DataLoader.DataLoader(\"./Data/Dataset_X7461_3-2S_30-30.csv\",\"./Data/Dataset_y7461_3-2S_30-30.csv\")\n",
    "data2, labels2 = data_loader2.load_data()\n",
    "radar_dataset2 = RadarDataSet.RadarDataSet(data2,labels2,0.4, StandardScaler(),appended_snr=True)\n",
    "threshold = 0.4\n",
    "radar_dataset2.load_X_r_i()\n",
    "#articleCNN2D = ArticleProfCNN2D()\n",
    "#articleCNN2D.load(\"CNN2D_article_Rxx_r_i\")\n",
    "y_predicted2 = docuCNNModel.model.predict(radar_dataset2.X)\n",
    "y_predicted_binary2 = (y_predicted2> threshold).astype(int)\n",
    "\n",
    "\n"
   ]
  },
  {
   "cell_type": "code",
   "execution_count": null,
   "metadata": {
    "scrolled": true
   },
   "outputs": [],
   "source": [
    "ErrorOfSNRPlot().evaluate(radar_dataset2.snr_y, radar_dataset2.y, y_predicted_binary2)\n",
    "ErrorOfSNRPlot().evaluate(radar_dataset2.snr_y, radar_dataset2.y, y_predicted_binary2, errorFunc=\"accuracy_score\")\n",
    "ErrorOfSNRPlot().evaluate(radar_dataset2.snr_y, radar_dataset2.y, y_predicted_binary2, errorFunc=\"roc_auc_score\")\n",
    "Accuracy().evaluate(radar_dataset2.y, y_predicted_binary2)\n",
    "randomTestIndex = random.randint(0, len(radar_dataset2.y))\n",
    "PredictedStepPlot().evaluate(\n",
    "    radar_dataset2.y[randomTestIndex], y_predicted2[randomTestIndex], threshold = threshold\n",
    ")"
   ]
  },
  {
   "cell_type": "code",
   "execution_count": null,
   "metadata": {},
   "outputs": [],
   "source": [
    "from sklearn.metrics import accuracy_score\n",
    "TRESHOLDArray= np.arange(0,1,0.1)\n",
    "accuracyOfTreshold = [accuracy_score(radar_dataset2.y, (y_predicted2> tresh).astype(int)) for tresh in TRESHOLDArray]\n",
    "\n",
    "plt.plot(TRESHOLDArray,accuracyOfTreshold)"
   ]
  },
  {
   "cell_type": "code",
   "execution_count": null,
   "metadata": {},
   "outputs": [],
   "source": [
    "accuracyOfTreshold.index(max(accuracyOfTreshold))"
   ]
  },
  {
   "cell_type": "code",
   "execution_count": null,
   "metadata": {
    "scrolled": true
   },
   "outputs": [],
   "source": [
    "#Distribution des labels de la dataset\n",
    "nombre_exemples_par_angle = np.sum(radar_dataset2.y, axis=0)\n",
    "angles = np.arange(181)-90\n",
    "\n",
    "# Créer l'histogramme\n",
    "plt.figure(figsize=(10, 6))\n",
    "plt.bar(angles, nombre_exemples_par_angle, color='blue', alpha=0.7)\n"
   ]
  },
  {
   "cell_type": "markdown",
   "metadata": {},
   "source": [
    "## Deuxieme data set SNR -30 à 30 comparaison music - model"
   ]
  },
  {
   "cell_type": "code",
   "execution_count": null,
   "metadata": {},
   "outputs": [],
   "source": [
    "\n",
    "radar_dataset_rxx = RadarDataSet.RadarDataSet(data2,labels2,0.4, scaler=None,appended_snr=True)\n",
    "Rxx = RadarDataSet.recreate_rxx(radar_dataset_rxx.X)\n",
    "musicModel = MUSICModel(2, np.arange(-90,90,0.1))\n",
    "\n",
    "y_music_predicted_angles, y_music_predicted_multilabel = musicModel.predict(Rxx)\n",
    "musicVsModelBySNRPlotter = MusicVsModelBySNR()\n",
    "musicVsModelBySNRPlotter.evaluate(radar_dataset_rxx.snr_y,y_music_predicted_multilabel,radar_dataset_rxx.y,y_predicted_binary2, errorFunc=\"rmse\")"
   ]
  },
  {
   "cell_type": "code",
   "execution_count": null,
   "metadata": {},
   "outputs": [],
   "source": []
  },
  {
   "cell_type": "code",
   "execution_count": null,
   "metadata": {},
   "outputs": [],
   "source": []
  },
  {
   "cell_type": "code",
   "execution_count": null,
   "metadata": {},
   "outputs": [],
   "source": []
  }
 ],
 "metadata": {
  "kernelspec": {
   "display_name": "Python 3",
   "language": "python",
   "name": "python3"
  },
  "language_info": {
   "codemirror_mode": {
    "name": "ipython",
    "version": 3
   },
   "file_extension": ".py",
   "mimetype": "text/x-python",
   "name": "python",
   "nbconvert_exporter": "python",
   "pygments_lexer": "ipython3",
   "version": "3.11.5"
  }
 },
 "nbformat": 4,
 "nbformat_minor": 4
}
