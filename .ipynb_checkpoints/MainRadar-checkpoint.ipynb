{
 "cells": [
  {
   "cell_type": "code",
   "execution_count": 1,
   "metadata": {
    "scrolled": false
   },
   "outputs": [],
   "source": [
    "## Demarrage du projet ##\n",
    "1+1 #Ca porte chance"
   ]
  },
  {
   "cell_type": "code",
   "execution_count": 2,
   "metadata": {},
   "outputs": [],
   "source": [
    "from Data import DataLoader\n",
    "from Data import RadarDataSet\n",
    "from PreProcessing.domaines.passage_freq import get_signal_frequentiel\n",
    "from Models.PolynomialRegressor import PolynomialRegressor\n",
    "from Models.BasicNNModel import BasicNNModel\n",
    "from Models.BasicCNNModel import BasicCNNModel\n",
    "from Models.BasicAutoEncoder import BasicAutoEncoder\n",
    "from PreProcessing.utils import data_to_complex\n",
    "from sklearn.preprocessing import StandardScaler\n",
    "from Evaluation.plots import ErrorOfSNRPlot "
   ]
  },
  {
   "cell_type": "code",
   "execution_count": 3,
   "metadata": {},
   "outputs": [],
   "source": [
    "import pandas as pd\n",
    "import numpy as np\n",
    "import matplotlib.pyplot as plt\n",
    "import random"
   ]
  },
  {
   "cell_type": "markdown",
   "metadata": {},
   "source": [
    "# Chargement des données"
   ]
  },
  {
   "cell_type": "code",
   "execution_count": null,
   "metadata": {},
   "outputs": [],
   "source": [
    "## Chargement des données\n",
    "data_loader = DataLoader.DataLoader(\"./Data/Dataset_X5717_SNR.csv\",\"./Data/Dataset_y5717_SNR.csv\")\n",
    "data, labels = data_loader.load_data()\n",
    "radar_dataset = RadarDataSet.RadarDataSet(data,labels,0.4, StandardScaler(),appended_snr=True) #0.2 is the test size ( 80% train data, 20% test data)\n",
    "radar_dataset.add_frequential_data()\n",
    "radar_dataset.y_test.shape"
   ]
  },
  {
   "cell_type": "markdown",
   "metadata": {},
   "source": [
    "# Chargement de différents modèles"
   ]
  },
  {
   "cell_type": "code",
   "execution_count": null,
   "metadata": {},
   "outputs": [],
   "source": [
    "basicCNNModel = BasicCNNModel()\n",
    "basicCNNModel.load(\"CNN12_bcross_b30_e3O_sigmoid_adam\")\n",
    "\n",
    "#basicAutoEncoder = BasicAutoEncoder()\n",
    "#basicAutoEncoder.load(\"basicAutoEncoder\")\n",
    "#X_test_encoded = basicAutoEncoder.encode(radar_dataset.X_test).squeeze()"
   ]
  },
  {
   "cell_type": "markdown",
   "metadata": {},
   "source": [
    "# Prediction des données de test + évaluation"
   ]
  },
  {
   "cell_type": "code",
   "execution_count": null,
   "metadata": {},
   "outputs": [],
   "source": [
    "from Evaluation.plots import PredictedStepPlot, LearningCurvesPlot\n",
    "from Evaluation.statistic_errors import MSEEvaluateur, RMSEEvaluateur, R2Score, Accuracy\n",
    "\n",
    "threshold = 0.5\n",
    "y_predicted = basicCNNModel.model.predict(radar_dataset.X_test)\n",
    "\n",
    "\n",
    "randomTestIndex = random.randint(0, len(y_predicted))\n",
    "PredictedStepPlot().evaluate(\n",
    "    radar_dataset.y_test[randomTestIndex], y_predicted[randomTestIndex], threshold = threshold\n",
    ")\n",
    "\n",
    "y_test_pred_binary = (y_predicted > threshold).astype(int)\n",
    "print(\"LES METRIQUES SUIVANTES SONT CALCULEES APRES AVOIR TRANSFORMER LES DONNEES DE SORTIES EN SORTIES BINAIRE AVEC UN SEUIL DE \"+str(threshold))\n",
    "MSEEvaluateur().evaluate(radar_dataset.y_test, y_test_pred_binary)\n",
    "RMSEEvaluateur().evaluate(radar_dataset.y_test, y_test_pred_binary)\n",
    "R2Score().evaluate(radar_dataset.y_test, y_test_pred_binary)\n",
    "Accuracy().evaluate(radar_dataset.y_test, y_test_pred_binary)\n",
    "plt.figure()\n",
    "ErrorOfSNRPlot().evaluate(radar_dataset.snr_y_test, radar_dataset.y_test, y_test_pred_binary)"
   ]
  },
  {
   "cell_type": "markdown",
   "metadata": {},
   "source": [
    "#POLYNOMIAL REGRESSION\n",
    "\n",
    "polynomialRegressor = PolynomialRegressor()\n",
    "polynomialRegressor.train(radar_dataset.X_train,radar_dataset.y_train)\n",
    "polynomialRegressor.evaluate(radar_dataset.X_test,radar_dataset.y_test)\n"
   ]
  },
  {
   "cell_type": "markdown",
   "metadata": {},
   "source": [
    "## Evaluation sur des données classées par SNR"
   ]
  },
  {
   "cell_type": "code",
   "execution_count": null,
   "metadata": {},
   "outputs": [],
   "source": [
    "from sklearn.metrics import f1_score\n",
    "data_loader2 = DataLoader.DataLoader(\"./Data/Dataset_X5717_SNR.csv\",\"./Data/Dataset_y5717_SNR.csv\")\n",
    "data2, labels2 = data_loader2.load_data()\n",
    "radar_dataset2 = RadarDataSet.RadarDataSet(data2,labels2,0.4, StandardScaler(),appended_snr=True)\n",
    "\n",
    "threshold = 0.6\n",
    "y_predicted2 = basicCNNModel.model.predict(radar_dataset2.X)\n",
    "y_predicted_binary2 = (y_predicted2> threshold).astype(int)\n",
    "\n",
    "\n",
    "ErrorOfSNRPlot().evaluate(radar_dataset2.snr_y, radar_dataset2.y, y_predicted_binary2)\n",
    "Accuracy().evaluate(radar_dataset2.y, y_predicted_binary2)\n",
    "R2Score().evaluate(radar_dataset2.y, y_predicted_binary2)"
   ]
  },
  {
   "cell_type": "code",
   "execution_count": null,
   "metadata": {},
   "outputs": [],
   "source": [
    "df = pd.DataFrame({'SNR': radar_dataset2.snr_y, 'y_true': list(radar_dataset2.y), 'y_pred': list(y_predicted_binary2)})\n",
    "df[\"y_pred\"][1]"
   ]
  },
  {
   "cell_type": "code",
   "execution_count": null,
   "metadata": {},
   "outputs": [],
   "source": [
    "from sklearn.metrics import mean_squared_error\n",
    "TRESHOLDArray= np.arange(0.1,1,0.001)\n",
    "accuracyOfTreshold = [mean_squared_error(radar_dataset2.y_test, (y_predicted2> tresh).astype(int)) for tresh in TRESHOLDArray]\n",
    "\n",
    "plt.plot(TRESHOLDArray,accuracyOfTreshold)"
   ]
  },
  {
   "cell_type": "code",
   "execution_count": null,
   "metadata": {},
   "outputs": [],
   "source": [
    "t =R2Score().evaluate(radar_dataset2.y_test, (y_predicted2> 0.8).astype(int))"
   ]
  },
  {
   "cell_type": "code",
   "execution_count": null,
   "metadata": {},
   "outputs": [],
   "source": [
    "f1_score(radar_dataset2.y_test,(y_predicted2> threshold).astype(int),average='micro')"
   ]
  },
  {
   "cell_type": "code",
   "execution_count": null,
   "metadata": {},
   "outputs": [],
   "source": [
    "accuracyOfTreshold.index(min(accuracyOfTreshold))*0.001"
   ]
  },
  {
   "cell_type": "code",
   "execution_count": null,
   "metadata": {},
   "outputs": [],
   "source": []
  }
 ],
 "metadata": {
  "kernelspec": {
   "display_name": "Python 3",
   "language": "python",
   "name": "python3"
  },
  "language_info": {
   "codemirror_mode": {
    "name": "ipython",
    "version": 3
   },
   "file_extension": ".py",
   "mimetype": "text/x-python",
   "name": "python",
   "nbconvert_exporter": "python",
   "pygments_lexer": "ipython3",
   "version": "3.11.5"
  }
 },
 "nbformat": 4,
 "nbformat_minor": 4
}
