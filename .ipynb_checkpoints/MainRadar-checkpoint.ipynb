{
 "cells": [
  {
   "cell_type": "code",
   "execution_count": 1,
   "metadata": {
    "scrolled": false
   },
   "outputs": [
    {
     "data": {
      "text/plain": [
       "2"
      ]
     },
     "execution_count": 1,
     "metadata": {},
     "output_type": "execute_result"
    }
   ],
   "source": [
    "## Demarrage du projet ##\n",
    "1+1 #Ca porte chance"
   ]
  },
  {
   "cell_type": "code",
   "execution_count": 2,
   "metadata": {},
   "outputs": [
    {
     "ename": "ImportError",
     "evalue": "cannot import name 'BasicCNNModel' from 'Models.BasicNNModel' (C:\\Users\\Younes srh\\Desktop\\I3\\ProjetRadarIA\\Models\\BasicNNModel.py)",
     "output_type": "error",
     "traceback": [
      "\u001b[1;31m---------------------------------------------------------------------------\u001b[0m",
      "\u001b[1;31mImportError\u001b[0m                               Traceback (most recent call last)",
      "Cell \u001b[1;32mIn[2], line 5\u001b[0m\n\u001b[0;32m      3\u001b[0m \u001b[38;5;28;01mfrom\u001b[39;00m \u001b[38;5;21;01mPreProcessing\u001b[39;00m\u001b[38;5;21;01m.\u001b[39;00m\u001b[38;5;21;01mdomaines\u001b[39;00m\u001b[38;5;21;01m.\u001b[39;00m\u001b[38;5;21;01mpassage_freq\u001b[39;00m \u001b[38;5;28;01mimport\u001b[39;00m get_signal_frequentiel\n\u001b[0;32m      4\u001b[0m \u001b[38;5;28;01mfrom\u001b[39;00m \u001b[38;5;21;01mModels\u001b[39;00m\u001b[38;5;21;01m.\u001b[39;00m\u001b[38;5;21;01mPolynomialRegressor\u001b[39;00m \u001b[38;5;28;01mimport\u001b[39;00m PolynomialRegressor\n\u001b[1;32m----> 5\u001b[0m \u001b[38;5;28;01mfrom\u001b[39;00m \u001b[38;5;21;01mModels\u001b[39;00m\u001b[38;5;21;01m.\u001b[39;00m\u001b[38;5;21;01mBasicNNModel\u001b[39;00m \u001b[38;5;28;01mimport\u001b[39;00m BasicNNModel, BasicCNNModel\n\u001b[0;32m      6\u001b[0m \u001b[38;5;28;01mfrom\u001b[39;00m \u001b[38;5;21;01mModels\u001b[39;00m\u001b[38;5;21;01m.\u001b[39;00m\u001b[38;5;21;01mBasicAutoEncoder\u001b[39;00m \u001b[38;5;28;01mimport\u001b[39;00m BasicAutoEncoder\n\u001b[0;32m      7\u001b[0m \u001b[38;5;28;01mfrom\u001b[39;00m \u001b[38;5;21;01mPreProcessing\u001b[39;00m\u001b[38;5;21;01m.\u001b[39;00m\u001b[38;5;21;01mutils\u001b[39;00m \u001b[38;5;28;01mimport\u001b[39;00m data_to_complex\n",
      "\u001b[1;31mImportError\u001b[0m: cannot import name 'BasicCNNModel' from 'Models.BasicNNModel' (C:\\Users\\Younes srh\\Desktop\\I3\\ProjetRadarIA\\Models\\BasicNNModel.py)"
     ]
    }
   ],
   "source": [
    "from Data import DataLoader\n",
    "from Data import RadarDataSet\n",
    "from PreProcessing.domaines.passage_freq import get_signal_frequentiel\n",
    "from Models.PolynomialRegressor import PolynomialRegressor\n",
    "from Models.BasicNNModel import BasicNNModel\n",
    "from Models.BasicCNNModel import BasicCNNModel\n",
    "from Models.BasicAutoEncoder import BasicAutoEncoder\n",
    "from PreProcessing.utils import data_to_complex\n",
    "from sklearn.preprocessing import StandardScaler"
   ]
  },
  {
   "cell_type": "code",
   "execution_count": null,
   "metadata": {},
   "outputs": [],
   "source": [
    "import pandas as pd\n",
    "import numpy as np\n",
    "import matplotlib.pyplot as plt"
   ]
  },
  {
   "cell_type": "markdown",
   "metadata": {},
   "source": [
    "# Chargement des données"
   ]
  },
  {
   "cell_type": "code",
   "execution_count": null,
   "metadata": {},
   "outputs": [],
   "source": [
    "data_loader = DataLoader.DataLoader()\n",
    "data, labels = data_loader.load_data()"
   ]
  },
  {
   "cell_type": "code",
   "execution_count": null,
   "metadata": {},
   "outputs": [],
   "source": [
    "## Chargement des données\n",
    "data, labels = data_loader.load_data()\n",
    "\n",
    "radar_dataset = RadarDataSet.RadarDataSet(data,labels,0.1, StandardScaler()) #0.2 is the test size ( 80% train data, 20% test data)\n",
    "radar_dataset.add_frequential_data()\n",
    "radar_dataset.y_test.shape"
   ]
  },
  {
   "cell_type": "markdown",
   "metadata": {},
   "source": [
    "## Test plot premier signal"
   ]
  },
  {
   "cell_type": "code",
   "execution_count": null,
   "metadata": {
    "scrolled": true
   },
   "outputs": [],
   "source": [
    "radar_dataset.plot(0) #Plot the first signal"
   ]
  },
  {
   "cell_type": "markdown",
   "metadata": {},
   "source": [
    "# Chargement de différents modèles"
   ]
  },
  {
   "cell_type": "code",
   "execution_count": null,
   "metadata": {},
   "outputs": [],
   "source": [
    "\n",
    "basicNNModel1 = BasicNNModel()\n",
    "basicNNModel1.load(\"basicNNModel1\")\n",
    "\n",
    "basicNNModel2 = BasicNNModel()\n",
    "basicNNModel2.load(\"basicNNModel2\")\n",
    "\n",
    "basicCNNModel1 = BasicCNNModel()\n",
    "basicCNNModel1.load(\"basicCNNModel4_temp\")\n",
    "\n",
    "basicAutoEncoder = BasicAutoEncoder()\n",
    "basicAutoEncoder.load(\"basicAutoEncoder\")\n",
    "X_test_encoded = basicAutoEncoder.encode(radar_dataset.X_test).squeeze()"
   ]
  },
  {
   "cell_type": "markdown",
   "metadata": {},
   "source": [
    "# Prediction des données de test + évaluation"
   ]
  },
  {
   "cell_type": "code",
   "execution_count": null,
   "metadata": {},
   "outputs": [],
   "source": [
    "basicCNNModel1.evaluate(radar_dataset.X_test,radar_dataset.y_test)"
   ]
  },
  {
   "cell_type": "code",
   "execution_count": null,
   "metadata": {},
   "outputs": [],
   "source": [
    "#POLYNOMIAL REGRESSION\n",
    "\n",
    "polynomialRegressor = PolynomialRegressor()\n",
    "polynomialRegressor.train(abs(radar_dataset.X_freq_train),radar_dataset.y_train)\n",
    "polynomialRegressor.evaluate(abs(radar_dataset.X_freq_test),radar_dataset.y_test)\n"
   ]
  },
  {
   "cell_type": "code",
   "execution_count": null,
   "metadata": {},
   "outputs": [],
   "source": [
    "basicCNNModel3 = BasicCNNModel()\n",
    "basicCNNModel3.load(\"basicCNNModel5_batch10\")\n",
    "basicCNNModel3.evaluate(radar_dataset.X_test,radar_dataset.y_test)"
   ]
  },
  {
   "cell_type": "code",
   "execution_count": null,
   "metadata": {},
   "outputs": [],
   "source": []
  }
 ],
 "metadata": {
  "kernelspec": {
   "display_name": "Python 3",
   "language": "python",
   "name": "python3"
  },
  "language_info": {
   "codemirror_mode": {
    "name": "ipython",
    "version": 3
   },
   "file_extension": ".py",
   "mimetype": "text/x-python",
   "name": "python",
   "nbconvert_exporter": "python",
   "pygments_lexer": "ipython3",
   "version": "3.11.5"
  }
 },
 "nbformat": 4,
 "nbformat_minor": 4
}
