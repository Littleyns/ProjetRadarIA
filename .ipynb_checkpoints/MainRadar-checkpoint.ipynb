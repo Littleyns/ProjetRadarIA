{
 "cells": [
  {
   "cell_type": "code",
   "execution_count": 1,
   "metadata": {},
   "outputs": [
    {
     "data": {
      "text/plain": [
       "2"
      ]
     },
     "execution_count": 1,
     "metadata": {},
     "output_type": "execute_result"
    }
   ],
   "source": [
    "## Demarrage du projet ##\n",
    "1+1 #Ca porte chance"
   ]
  },
  {
   "cell_type": "code",
   "execution_count": 1,
   "metadata": {},
   "outputs": [],
   "source": [
    "from PreProcessing import PreProcessors\n",
    "from Training import Train\n",
    "from Evaluation import SignalEvaluator\n",
    "from Data import DataLoader"
   ]
  },
  {
   "cell_type": "code",
   "execution_count": 3,
   "metadata": {},
   "outputs": [
    {
     "name": "stdout",
     "output_type": "stream",
     "text": [
      "None\n"
     ]
    }
   ],
   "source": [
    "trainer = Train.TrainerCNN()\n",
    "preprocessor = PreProcessors.PreProcessor1()\n",
    "evaluator = SignalEvaluator.SignalEvaluator()\n",
    "data_loader = DataLoader.DataLoader()\n",
    "\n",
    "# Chargez les données radar\n",
    "radar_data = data_loader.load_data()\n",
    "\n",
    "# Prétraitez les données\n",
    "preprocessed_data = preprocessor.preprocess_data(radar_data)\n",
    "\n",
    "# Divisez les données en ensembles d'entraînement et de test\n",
    "train_data, test_data = trainer.split_data(preprocessed_data)\n",
    "\n",
    "# Entraînez le modèle\n",
    "trained_model = trainer.train_model(None, None)\n",
    "\n",
    "# Évaluez les performances du modèle\n",
    "evaluation_result = evaluator.evaluate_model(None, test_data, None)\n",
    "\n",
    "# Affichez les résultats d'évaluation\n",
    "print(evaluation_result)"
   ]
  },
  {
   "cell_type": "code",
   "execution_count": null,
   "metadata": {},
   "outputs": [],
   "source": []
  }
 ],
 "metadata": {
  "kernelspec": {
   "display_name": "Python 3",
   "language": "python",
   "name": "python3"
  },
  "language_info": {
   "codemirror_mode": {
    "name": "ipython",
    "version": 3
   },
   "file_extension": ".py",
   "mimetype": "text/x-python",
   "name": "python",
   "nbconvert_exporter": "python",
   "pygments_lexer": "ipython3",
   "version": "3.8.5"
  }
 },
 "nbformat": 4,
 "nbformat_minor": 4
}
