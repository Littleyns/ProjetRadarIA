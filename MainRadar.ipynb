{
 "cells": [
  {
   "cell_type": "code",
   "execution_count": 6,
   "metadata": {
    "scrolled": false
   },
   "outputs": [
    {
     "data": {
      "text/plain": [
       "2"
      ]
     },
     "execution_count": 6,
     "metadata": {},
     "output_type": "execute_result"
    }
   ],
   "source": [
    "## Demarrage du projet ##\n",
    "1+1 #Ca porte chance"
   ]
  },
  {
   "cell_type": "code",
   "execution_count": 7,
   "metadata": {},
   "outputs": [],
   "source": [
    "from Data import DataLoader\n",
    "from Data import RadarDataSet\n",
    "from PreProcessing.domaines.passage_freq import get_signal_frequentiel\n",
    "from Models.PolynomialRegressor import PolynomialRegressor\n",
    "from Models.BasicNNModel import BasicNNModel\n",
    "from Models.DocuCNNModel import DocuCNNModel\n",
    "from Models.ArticleProfCNN2D import ArticleProfCNN2D \n",
    "from Models.BasicAutoEncoder import BasicAutoEncoder\n",
    "from PreProcessing.utils import data_to_complex\n",
    "from sklearn.preprocessing import StandardScaler\n",
    "from Evaluation.plots import ErrorOfSNRPlot \n",
    "from Evaluation.plots import PredictedStepPlot, LearningCurvesPlot\n",
    "from Evaluation.statistic_errors import MSEEvaluateur, RMSEEvaluateur, R2Score, Accuracy\n",
    "from Evaluation.plots import MusicVsModelBySNR\n",
    "from Models.MUSIC import MUSICModel\n",
    "import keras\n",
    "from sklearn.metrics import f1_score\n",
    "import pandas as pd\n",
    "import numpy as np\n",
    "import matplotlib.pyplot as plt\n",
    "import random"
   ]
  },
  {
   "cell_type": "markdown",
   "metadata": {},
   "source": [
    "## Chargement de la dataset"
   ]
  },
  {
   "cell_type": "code",
   "execution_count": 8,
   "metadata": {},
   "outputs": [],
   "source": [
    "\n",
    "absolutePath = \"./Data/\"\n",
    "data_loader2 = DataLoader.DataLoader(absolutePath+\"last_data/Dataset_X5690_30-30_2S_test.csv\",absolutePath+\"last_data/Dataset_y5690_30-30_2S_test.csv\")\n",
    "data2, labels2 = data_loader2.load_data()\n",
    "radar_dataset2 = RadarDataSet.RealImaginaryXDataSet(data2,labels2,0.4, StandardScaler(),appended_snr=True)"
   ]
  },
  {
   "cell_type": "markdown",
   "metadata": {},
   "source": [
    "## Visualisation de la distribution de la dataset"
   ]
  },
  {
   "cell_type": "code",
   "execution_count": 9,
   "metadata": {
    "scrolled": true
   },
   "outputs": [
    {
     "data": {
      "image/png": "[encoded data removed]",
      "text/plain": [
       "<Figure size 1000x600 with 1 Axes>"
      ]
     },
     "metadata": {},
     "output_type": "display_data"
    }
   ],
   "source": [
    "#Distribution des labels de la dataset\n",
    "radar_dataset2.plot_labels_distribution()"
   ]
  },
  {
   "cell_type": "markdown",
   "metadata": {},
   "source": [
    "## Chargement du modèle"
   ]
  },
  {
   "cell_type": "code",
   "execution_count": 10,
   "metadata": {},
   "outputs": [],
   "source": [
    "docuCNNModel = DocuCNNModel()\n",
    "keras.utils.get_custom_objects()['angleSensitiveCustomLoss'] = docuCNNModel.Trainer.angleSensitiveCustomLoss\n",
    "docuCNNModel.load(\"CNN_docu10_XRI_e30_b350_anglesensitive_2S\",custom_loss=\"angleSensitiveCustomLoss\")"
   ]
  },
  {
   "cell_type": "markdown",
   "metadata": {},
   "source": [
    "## Prédiction sur les données de test + applicage d'un seuil"
   ]
  },
  {
   "cell_type": "code",
   "execution_count": null,
   "metadata": {},
   "outputs": [],
   "source": [
    "threshold = 0.8\n",
    "y_predicted2 = docuCNNModel.model.predict(radar_dataset2.X)\n",
    "y_predicted_binary2 = (y_predicted2> threshold).astype(int)"
   ]
  },
  {
   "cell_type": "markdown",
   "metadata": {},
   "source": [
    "##Visualisation de métriques par niveaux de bruits"
   ]
  },
  {
   "cell_type": "code",
   "execution_count": null,
   "metadata": {
    "scrolled": false
   },
   "outputs": [],
   "source": [
    "ErrorOfSNRPlot().evaluate(radar_dataset2.snr_y, radar_dataset2.y, y_predicted_binary2)\n",
    "ErrorOfSNRPlot().evaluate(radar_dataset2.snr_y, radar_dataset2.y, y_predicted_binary2, errorFunc=\"accuracy_score\")\n",
    "ErrorOfSNRPlot().evaluate(radar_dataset2.snr_y, radar_dataset2.y, y_predicted_binary2, errorFunc=\"roc_auc_score\")\n",
    "Accuracy().evaluate(radar_dataset2.y, y_predicted_binary2)\n",
    "\n"
   ]
  },
  {
   "cell_type": "markdown",
   "metadata": {},
   "source": [
    "## Tirage aléatoire d'un exemple dans le test set pour visualisation"
   ]
  },
  {
   "cell_type": "code",
   "execution_count": null,
   "metadata": {
    "scrolled": true
   },
   "outputs": [],
   "source": [
    "#plot random index\n",
    "randomTestIndex = random.randint(0, len(radar_dataset2.y))\n",
    "PredictedStepPlot().evaluate(\n",
    "    radar_dataset2.y[randomTestIndex], y_predicted2[randomTestIndex], threshold = threshold\n",
    ")"
   ]
  },
  {
   "cell_type": "markdown",
   "metadata": {},
   "source": [
    "## Recherche de threshold optimal, su des dataset à SNR entre -5 et 30"
   ]
  },
  {
   "cell_type": "code",
   "execution_count": null,
   "metadata": {
    "scrolled": true
   },
   "outputs": [],
   "source": [
    "yp_test = docuCNNModel.model.predict(radar_dataset2.X_test)\n",
    "TRESHOLDArray= np.arange(0,1,0.05)\n",
    "accuracyOfTreshold = [f1_score(radar_dataset2.y_test, (yp_test> tresh).astype(int), average=\"samples\") for tresh in TRESHOLDArray]\n",
    "index_of_peak = np.argmax(accuracyOfTreshold)\n",
    "peak_value = accuracyOfTreshold[index_of_peak]\n",
    "plt.plot(TRESHOLDArray,accuracyOfTreshold)\n",
    "plt.scatter(TRESHOLDArray[index_of_peak], peak_value, color='red', label='Pic')"
   ]
  },
  {
   "cell_type": "markdown",
   "metadata": {},
   "source": [
    "## Comparaison des performances avec l'algorithme MUSIC"
   ]
  },
  {
   "cell_type": "code",
   "execution_count": null,
   "metadata": {
    "scrolled": true
   },
   "outputs": [],
   "source": [
    "#Necessité de recharger des données car MUSIC ne prend pas les données normalisées\n",
    "radar_dataset_rxx = RadarDataSet.RxxDataSet(data2,labels2,0.4, scaler=None,appended_snr=True)\n",
    "musicModel = MUSICModel(2, np.arange(-90,91,1))\n",
    "y_music_predicted_angles, y_music_predicted_multilabel = musicModel.predict(radar_dataset_rxx.X)"
   ]
  },
  {
   "cell_type": "code",
   "execution_count": null,
   "metadata": {
    "scrolled": true
   },
   "outputs": [],
   "source": [
    "musicVsModelBySNRPlotter = MusicVsModelBySNR(step=1, errorFunc=\"rmse\") #Illustrer le CRB limite theorique\n",
    "musicVsModelBySNRPlotter.evaluate(radar_dataset_rxx.snr_y,radar_dataset_rxx.y,y_music_predicted_multilabel,radar_dataset2.snr_y, radar_dataset2.y, y_predicted2)"
   ]
  },
  {
   "cell_type": "code",
   "execution_count": null,
   "metadata": {},
   "outputs": [],
   "source": []
  }
 ],
 "metadata": {
  "kernelspec": {
   "display_name": "Python 3",
   "language": "python",
   "name": "python3"
  },
  "language_info": {
   "codemirror_mode": {
    "name": "ipython",
    "version": 3
   },
   "file_extension": ".py",
   "mimetype": "text/x-python",
   "name": "python",
   "nbconvert_exporter": "python",
   "pygments_lexer": "ipython3",
   "version": "3.11.5"
  }
 },
 "nbformat": 4,
 "nbformat_minor": 4
}
