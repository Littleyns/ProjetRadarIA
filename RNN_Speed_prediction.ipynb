{
 "cells": [
  {
   "cell_type": "code",
   "execution_count": 1,
   "id": "ae5a8995",
   "metadata": {},
   "outputs": [],
   "source": [
    "import numpy as np\n",
    "import pandas as pd\n",
    "import random\n"
   ]
  },
  {
   "cell_type": "markdown",
   "id": "58a43345",
   "metadata": {},
   "source": [
    "## Generation de données"
   ]
  },
  {
   "cell_type": "code",
   "execution_count": null,
   "id": "c20c7e5e",
   "metadata": {},
   "outputs": [],
   "source": [
    "def generate_time_series_example(num_positions, num_time_steps, doa_indices, max_speed):\n",
    "    # Générer une vitesse aléatoire pour chaque exemple\n",
    "    initial_doa_indices = doa_indices\n",
    "    speeds = []\n",
    "    for i in range(len(doa_indices)):\n",
    "        speed = (1,-1)[np.random.randint(0,2)==1]\n",
    "        if speed == 1:\n",
    "            speed*= random.randint(1, int((abs(180-doa_indices[i]))/num_time_steps))\n",
    "        else:\n",
    "            speed *= random.randint(1,int(doa_indices[i]/num_time_steps))\n",
    "        speeds+=speed,\n",
    "    # Normaliser la vitesse\n",
    "    #normalized_speed = speed / np.mean(speed)\n",
    "\n",
    "    # Initialiser une série temporelle de positions pour chaque exemple\n",
    "    time_series_positions = []\n",
    "\n",
    "    for _ in range(num_time_steps):\n",
    "        # Générer un vecteur de positions initialisé à zéro\n",
    "        positions = np.zeros(num_positions)\n",
    "\n",
    "        # Placer des '1' aux indices spécifiés pour les DoA\n",
    "        positions[list(doa_indices)] = 1\n",
    "\n",
    "        # Ajouter la série temporelle de positions à la liste\n",
    "        time_series_positions.append(positions)\n",
    "\n",
    "        # Mettre à jour les indices des DoA en fonction de la vitesse\n",
    "        doa_indices = np.array(doa_indices) + np.array(speeds)\n",
    "    # Créer un dataframe pandas avec la série temporelle de positions et la vitesse associée\n",
    "\n",
    "    time_series_positions= np.array(time_series_positions)\n",
    "    # Créer la DataFrame\n",
    "    df = pd.DataFrame({i: time_series_positions[i].reshape(1,181).tolist() for i in range(time_series_positions.shape[0])})\n",
    "\n",
    "    speeds_res = np.zeros(num_positions)\n",
    "    speeds_res[initial_doa_indices] = speeds\n",
    "    df['Speed'] = speeds_res.reshape(1,181).tolist()\n",
    "    return df"
   ]
  },
  {
   "cell_type": "code",
   "execution_count": 8,
   "id": "4c60af46",
   "metadata": {},
   "outputs": [
    {
     "ename": "NameError",
     "evalue": "name 'generate_time_series_example' is not defined",
     "output_type": "error",
     "traceback": [
      "\u001b[1;31m---------------------------------------------------------------------------\u001b[0m",
      "\u001b[1;31mNameError\u001b[0m                                 Traceback (most recent call last)",
      "Cell \u001b[1;32mIn[8], line 17\u001b[0m\n\u001b[0;32m     15\u001b[0m doa_indices \u001b[38;5;241m=\u001b[39m [random\u001b[38;5;241m.\u001b[39mrandint(\u001b[38;5;241m30\u001b[39m,\u001b[38;5;241m150\u001b[39m), random\u001b[38;5;241m.\u001b[39mrandint(\u001b[38;5;241m30\u001b[39m,\u001b[38;5;241m150\u001b[39m)]\n\u001b[0;32m     16\u001b[0m \u001b[38;5;66;03m# Générer une série temporelle de 5 mesures associée à une vitesse\u001b[39;00m\n\u001b[1;32m---> 17\u001b[0m time_series_example \u001b[38;5;241m=\u001b[39m generate_time_series_example(num_positions, num_time_steps, doa_indices, max_speed)\n\u001b[0;32m     21\u001b[0m \u001b[38;5;66;03m# Ajouter la ligne à l'ensemble des exemples\u001b[39;00m\n\u001b[0;32m     22\u001b[0m all_examples \u001b[38;5;241m=\u001b[39m pd\u001b[38;5;241m.\u001b[39mconcat([all_examples, time_series_example], axis\u001b[38;5;241m=\u001b[39m\u001b[38;5;241m0\u001b[39m, ignore_index\u001b[38;5;241m=\u001b[39m\u001b[38;5;28;01mTrue\u001b[39;00m)\n",
      "\u001b[1;31mNameError\u001b[0m: name 'generate_time_series_example' is not defined"
     ]
    }
   ],
   "source": [
    "\n",
    "\n",
    "# Paramètres\n",
    "num_positions = 181\n",
    "num_time_steps = 5\n",
    "\n",
    "max_speed = 10.0  # Vitesse maximale\n",
    "\n",
    "all_examples = pd.DataFrame()\n",
    "\n",
    "for example_idx in range(100000):\n",
    "    doa_indices = [random.randint(30,150), random.randint(30,150)]\n",
    "    # Générer une série temporelle de 5 mesures associée à une vitesse\n",
    "    time_series_example = generate_time_series_example(num_positions, num_time_steps, doa_indices, max_speed)\n",
    "\n",
    "\n",
    "\n",
    "    # Ajouter la ligne à l'ensemble des exemples\n",
    "    all_examples = pd.concat([all_examples, time_series_example], axis=0, ignore_index=True)\n",
    "\n",
    "# Enregistrer toutes les séries temporelles dans un seul fichier CSV\n",
    "all_examples.to_csv('temporal_measures_trainset.csv', index=False)"
   ]
  },
  {
   "cell_type": "code",
   "execution_count": 6,
   "id": "d4c5920e",
   "metadata": {},
   "outputs": [],
   "source": [
    "def get_dataset(path):\n",
    "  data = pd.read_csv(path,header=None, index_col=False)\n",
    "  X = data.iloc[1:,:5].values\n",
    "  y = data.iloc[1:,5].values\n",
    "  sy = list(map(lambda yy: yy.strip('][').split(', '),y))\n",
    "  y = np.array(sy).astype(np.float32)\n",
    "  X = np.array([ list(map(lambda mesure: mesure.strip('][').split(', '),X[i]))for i in range(len(X))]).astype(np.float32)\n",
    "  return X,y"
   ]
  },
  {
   "cell_type": "markdown",
   "id": "ef596415",
   "metadata": {},
   "source": [
    "## Test et prédictions"
   ]
  },
  {
   "cell_type": "code",
   "execution_count": 2,
   "id": "ee4e6c38",
   "metadata": {},
   "outputs": [
    {
     "ename": "OSError",
     "evalue": "No file or directory found at C:\\Users\\Younes srh\\Desktop\\I3\\ProjetRadarIA/Models/saved/RNNModel1",
     "output_type": "error",
     "traceback": [
      "\u001b[1;31m---------------------------------------------------------------------------\u001b[0m",
      "\u001b[1;31mOSError\u001b[0m                                   Traceback (most recent call last)",
      "Cell \u001b[1;32mIn[2], line 3\u001b[0m\n\u001b[0;32m      1\u001b[0m \u001b[38;5;28;01mfrom\u001b[39;00m \u001b[38;5;21;01mModels\u001b[39;00m\u001b[38;5;21;01m.\u001b[39;00m\u001b[38;5;21;01mRNNmodel\u001b[39;00m \u001b[38;5;28;01mimport\u001b[39;00m RNNModel\n\u001b[0;32m      2\u001b[0m model \u001b[38;5;241m=\u001b[39m RNNModel()\n\u001b[1;32m----> 3\u001b[0m model\u001b[38;5;241m.\u001b[39mload(\u001b[38;5;124m\"\u001b[39m\u001b[38;5;124mRNNModel1\u001b[39m\u001b[38;5;124m\"\u001b[39m)\n",
      "File \u001b[1;32m~\\Desktop\\I3\\ProjetRadarIA\\Models\\RNNmodel.py:62\u001b[0m, in \u001b[0;36mRNNModel.load\u001b[1;34m(self, name)\u001b[0m\n\u001b[0;32m     61\u001b[0m \u001b[38;5;28;01mdef\u001b[39;00m \u001b[38;5;21mload\u001b[39m(\u001b[38;5;28mself\u001b[39m, name):\n\u001b[1;32m---> 62\u001b[0m     \u001b[38;5;28mself\u001b[39m\u001b[38;5;241m.\u001b[39mmodel \u001b[38;5;241m=\u001b[39m keras\u001b[38;5;241m.\u001b[39mmodels\u001b[38;5;241m.\u001b[39mload_model(os\u001b[38;5;241m.\u001b[39mgetcwd()\u001b[38;5;241m+\u001b[39m\u001b[38;5;124m'\u001b[39m\u001b[38;5;124m/Models/saved/\u001b[39m\u001b[38;5;124m'\u001b[39m\u001b[38;5;241m+\u001b[39mname)\n",
      "File \u001b[1;32mD:\\anaconda\\Lib\\site-packages\\keras\\src\\saving\\saving_api.py:238\u001b[0m, in \u001b[0;36mload_model\u001b[1;34m(filepath, custom_objects, compile, safe_mode, **kwargs)\u001b[0m\n\u001b[0;32m    230\u001b[0m     \u001b[38;5;28;01mreturn\u001b[39;00m saving_lib\u001b[38;5;241m.\u001b[39mload_model(\n\u001b[0;32m    231\u001b[0m         filepath,\n\u001b[0;32m    232\u001b[0m         custom_objects\u001b[38;5;241m=\u001b[39mcustom_objects,\n\u001b[0;32m    233\u001b[0m         \u001b[38;5;28mcompile\u001b[39m\u001b[38;5;241m=\u001b[39m\u001b[38;5;28mcompile\u001b[39m,\n\u001b[0;32m    234\u001b[0m         safe_mode\u001b[38;5;241m=\u001b[39msafe_mode,\n\u001b[0;32m    235\u001b[0m     )\n\u001b[0;32m    237\u001b[0m \u001b[38;5;66;03m# Legacy case.\u001b[39;00m\n\u001b[1;32m--> 238\u001b[0m \u001b[38;5;28;01mreturn\u001b[39;00m legacy_sm_saving_lib\u001b[38;5;241m.\u001b[39mload_model(\n\u001b[0;32m    239\u001b[0m     filepath, custom_objects\u001b[38;5;241m=\u001b[39mcustom_objects, \u001b[38;5;28mcompile\u001b[39m\u001b[38;5;241m=\u001b[39m\u001b[38;5;28mcompile\u001b[39m, \u001b[38;5;241m*\u001b[39m\u001b[38;5;241m*\u001b[39mkwargs\n\u001b[0;32m    240\u001b[0m )\n",
      "File \u001b[1;32mD:\\anaconda\\Lib\\site-packages\\keras\\src\\utils\\traceback_utils.py:70\u001b[0m, in \u001b[0;36mfilter_traceback.<locals>.error_handler\u001b[1;34m(*args, **kwargs)\u001b[0m\n\u001b[0;32m     67\u001b[0m     filtered_tb \u001b[38;5;241m=\u001b[39m _process_traceback_frames(e\u001b[38;5;241m.\u001b[39m__traceback__)\n\u001b[0;32m     68\u001b[0m     \u001b[38;5;66;03m# To get the full stack trace, call:\u001b[39;00m\n\u001b[0;32m     69\u001b[0m     \u001b[38;5;66;03m# `tf.debugging.disable_traceback_filtering()`\u001b[39;00m\n\u001b[1;32m---> 70\u001b[0m     \u001b[38;5;28;01mraise\u001b[39;00m e\u001b[38;5;241m.\u001b[39mwith_traceback(filtered_tb) \u001b[38;5;28;01mfrom\u001b[39;00m \u001b[38;5;28;01mNone\u001b[39;00m\n\u001b[0;32m     71\u001b[0m \u001b[38;5;28;01mfinally\u001b[39;00m:\n\u001b[0;32m     72\u001b[0m     \u001b[38;5;28;01mdel\u001b[39;00m filtered_tb\n",
      "File \u001b[1;32mD:\\anaconda\\Lib\\site-packages\\keras\\src\\saving\\legacy\\save.py:234\u001b[0m, in \u001b[0;36mload_model\u001b[1;34m(filepath, custom_objects, compile, options)\u001b[0m\n\u001b[0;32m    232\u001b[0m \u001b[38;5;28;01mif\u001b[39;00m \u001b[38;5;28misinstance\u001b[39m(filepath_str, \u001b[38;5;28mstr\u001b[39m):\n\u001b[0;32m    233\u001b[0m     \u001b[38;5;28;01mif\u001b[39;00m \u001b[38;5;129;01mnot\u001b[39;00m tf\u001b[38;5;241m.\u001b[39mio\u001b[38;5;241m.\u001b[39mgfile\u001b[38;5;241m.\u001b[39mexists(filepath_str):\n\u001b[1;32m--> 234\u001b[0m         \u001b[38;5;28;01mraise\u001b[39;00m \u001b[38;5;167;01mIOError\u001b[39;00m(\n\u001b[0;32m    235\u001b[0m             \u001b[38;5;124mf\u001b[39m\u001b[38;5;124m\"\u001b[39m\u001b[38;5;124mNo file or directory found at \u001b[39m\u001b[38;5;132;01m{\u001b[39;00mfilepath_str\u001b[38;5;132;01m}\u001b[39;00m\u001b[38;5;124m\"\u001b[39m\n\u001b[0;32m    236\u001b[0m         )\n\u001b[0;32m    238\u001b[0m     \u001b[38;5;28;01mif\u001b[39;00m tf\u001b[38;5;241m.\u001b[39mio\u001b[38;5;241m.\u001b[39mgfile\u001b[38;5;241m.\u001b[39misdir(filepath_str):\n\u001b[0;32m    239\u001b[0m         \u001b[38;5;28;01mreturn\u001b[39;00m saved_model_load\u001b[38;5;241m.\u001b[39mload(\n\u001b[0;32m    240\u001b[0m             filepath_str, \u001b[38;5;28mcompile\u001b[39m, options\n\u001b[0;32m    241\u001b[0m         )\n",
      "\u001b[1;31mOSError\u001b[0m: No file or directory found at C:\\Users\\Younes srh\\Desktop\\I3\\ProjetRadarIA/Models/saved/RNNModel1"
     ]
    }
   ],
   "source": [
    "from Models.RNNmodel import RNNModel\n",
    "model = RNNModel()\n",
    "model.load(\"RNNModel1\")"
   ]
  },
  {
   "cell_type": "code",
   "execution_count": 11,
   "id": "be88c268",
   "metadata": {},
   "outputs": [
    {
     "name": "stdout",
     "output_type": "stream",
     "text": [
      "313/313 [==============================] - 1s 3ms/step\n",
      "Predictions: [[ 0.00223894 -0.01193082 -0.02598203 ...  0.00595028  0.00585863\n",
      "   0.01376195]\n",
      " [-0.00235584  0.0005217   0.00086629 ... -0.00045733  0.0002167\n",
      "   0.0017541 ]\n",
      " [ 0.0140188   0.01722031  0.01866024 ... -0.00602975 -0.01192925\n",
      "  -0.0197075 ]\n",
      " ...\n",
      " [-0.00179158  0.01360585 -0.01230781 ...  0.01492967 -0.03145906\n",
      "   0.0216356 ]\n",
      " [-0.00415665  0.00865273  0.00468268 ... -0.00295552 -0.00645641\n",
      "  -0.0093558 ]\n",
      " [-0.00234419 -0.00413437 -0.0039358  ...  0.00636543  0.00696305\n",
      "   0.00098497]]\n"
     ]
    }
   ],
   "source": [
    "# Faire des prédictions sur de nouvelles données (remplacez avec vos données de test)\n",
    "Xtest,ytest = get_dataset(\"./Data/temporal_measures_testset.csv\")\n",
    "predictions = model.predict(Xtest)\n",
    "\n",
    "print(\"Predictions:\", predictions)"
   ]
  },
  {
   "cell_type": "code",
   "execution_count": 49,
   "id": "9b5891f3",
   "metadata": {},
   "outputs": [
    {
     "data": {
      "text/plain": [
       "[<matplotlib.lines.Line2D at 0x1a5032c0890>,\n",
       " <matplotlib.lines.Line2D at 0x1a5032ba550>]"
      ]
     },
     "execution_count": 49,
     "metadata": {},
     "output_type": "execute_result"
    },
    {
     "data": {
      "image/png": "[encoded data removed]",
      "text/plain": [
       "<Figure size 640x480 with 1 Axes>"
      ]
     },
     "metadata": {},
     "output_type": "display_data"
    }
   ],
   "source": [
    "import matplotlib.pyplot as plt\n",
    "import random\n",
    "k = random.randint(0,len(predictions))\n",
    "plt.plot(np.arange(0,181,1),predictions[k],ytest[k])"
   ]
  },
  {
   "cell_type": "code",
   "execution_count": null,
   "id": "201ff436",
   "metadata": {},
   "outputs": [],
   "source": []
  }
 ],
 "metadata": {
  "kernelspec": {
   "display_name": "Python 3",
   "language": "python",
   "name": "python3"
  },
  "language_info": {
   "codemirror_mode": {
    "name": "ipython",
    "version": 3
   },
   "file_extension": ".py",
   "mimetype": "text/x-python",
   "name": "python",
   "nbconvert_exporter": "python",
   "pygments_lexer": "ipython3",
   "version": "3.11.5"
  }
 },
 "nbformat": 4,
 "nbformat_minor": 5
}
